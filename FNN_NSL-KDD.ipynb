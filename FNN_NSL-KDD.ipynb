{
 "cells": [
  {
   "cell_type": "markdown",
   "id": "62de1554",
   "metadata": {},
   "source": [
    "\n",
    "# import the dataset and seperate it into input and output datasets (x, y)\n"
   ]
  },
  {
   "cell_type": "code",
   "execution_count": 1,
   "id": "1d5e55b8",
   "metadata": {},
   "outputs": [],
   "source": [
    "import numpy as np\n",
    "import pandas as pd"
   ]
  },
  {
   "cell_type": "code",
   "execution_count": 2,
   "id": "f5afe229",
   "metadata": {},
   "outputs": [
    {
     "name": "stdout",
     "output_type": "stream",
     "text": [
      "choose a scenario [1, 2, 3]:3\n"
     ]
    }
   ],
   "source": [
    "# choose scenario to run\n",
    "while True:\n",
    "    S = input('choose a scenario [1, 2, 3]:')\n",
    "    if S == '1':\n",
    "        TrainingData = 'scenarios\\Scenario A\\Training-a1-a3.csv'\n",
    "        TestingData  = 'scenarios\\Scenario A\\Testing-a1-a3.csv'\n",
    "        break\n",
    "    elif S == '2':\n",
    "        TrainingData = 'scenarios\\Scenario B\\Training-a1.csv'\n",
    "        TestingData  = 'scenarios\\Scenario B\\Testing-a2-a4.csv'\n",
    "        break\n",
    "    elif S == '3':\n",
    "        TrainingData = 'scenarios\\Scenario C\\Training-a1-a2.csv'\n",
    "        TestingData  = 'scenarios\\Scenario C\\Testing-a1-a2-a3.csv'\n",
    "        break"
   ]
  },
  {
   "cell_type": "code",
   "execution_count": 3,
   "id": "c9f982f6",
   "metadata": {},
   "outputs": [
    {
     "data": {
      "text/plain": [
       "(124926, 41)"
      ]
     },
     "execution_count": 3,
     "metadata": {},
     "output_type": "execute_result"
    }
   ],
   "source": [
    "# Read the train dataset\n",
    "train_dataset = pd.read_csv(TrainingData, header=None)\n",
    "\n",
    "# select all column except the last 2, the .values at the end of the slice changes the Pandas DataFrame to a NumPy array.\n",
    "train_X = train_dataset.iloc [:, 0:-2].values\n",
    "# select the second last column only (contain the labels: normal and attack)\n",
    "label_column = train_dataset.iloc [:, -2].values\n",
    "train_y = []\n",
    "\n",
    "for i in range(len( label_column )):\n",
    "    if label_column[i] == 'normal':\n",
    "        train_y.append (0)\n",
    "    else:\n",
    "        train_y.append (1)\n",
    "        \n",
    "# Convert y to numpy array\n",
    "train_y = np.array(train_y)\n",
    "train_X.shape"
   ]
  },
  {
   "cell_type": "code",
   "execution_count": 4,
   "id": "a147fff9",
   "metadata": {},
   "outputs": [
    {
     "data": {
      "text/plain": [
       "(19659, 41)"
      ]
     },
     "execution_count": 4,
     "metadata": {},
     "output_type": "execute_result"
    }
   ],
   "source": [
    "# Read the test dataset\n",
    "test_dataset = pd.read_csv(TestingData, header=None)\n",
    "\n",
    "# Select all column except the last 2, the .values at the end of the slice changes the Pandas DataFrame to a NumPy array.\n",
    "test_X = test_dataset.iloc [:, 0:-2].values\n",
    "\n",
    "# select the second last column only (contain the labels: normal and attack)\n",
    "test_label_column = test_dataset.iloc [:, -2].values\n",
    "test_y = []\n",
    "\n",
    "for i in range(len(test_label_column)):\n",
    "    if test_label_column[i] == 'normal':\n",
    "        test_y.append(0)\n",
    "    else:\n",
    "        test_y.append(1)\n",
    "\n",
    "# Convert y to numpy array\n",
    "test_y = np.array(test_y)\n",
    "\n",
    "test_X.shape"
   ]
  },
  {
   "cell_type": "markdown",
   "id": "b13d1240",
   "metadata": {},
   "source": [
    "## transform column 1,2, and 3 from strings to float"
   ]
  },
  {
   "cell_type": "code",
   "execution_count": 5,
   "id": "7fba5d82",
   "metadata": {},
   "outputs": [],
   "source": [
    "from sklearn.preprocessing import OneHotEncoder\n",
    "from sklearn.compose import ColumnTransformer\n",
    "\n",
    "ct = ColumnTransformer (\n",
    "    [('one hot encoder', OneHotEncoder(), [1 ,2 ,3])],\n",
    "    # Leave the rest untouched\n",
    "    remainder ='passthrough'\n",
    ")\n",
    "\n",
    "X_train = np.array(ct.fit_transform(train_X), dtype=float)\n",
    "# X_test  = np.array(ct.fit_transform(test_X), dtype=float)\n",
    "X_test  = np.array(ct.transform(test_X), dtype=float)"
   ]
  },
  {
   "cell_type": "code",
   "execution_count": 6,
   "id": "522814f2",
   "metadata": {},
   "outputs": [
    {
     "name": "stdout",
     "output_type": "stream",
     "text": [
      "training size:  (124926, 122)  - testing size: (19659, 122)\n",
      "training size:  (124926,)  - testing size: (19659,)\n"
     ]
    }
   ],
   "source": [
    "print('training size: ',X_train.shape, ' - testing size:',X_test.shape)\n",
    "print('training size: ',train_y.shape, ' - testing size:',test_y.shape)"
   ]
  },
  {
   "cell_type": "markdown",
   "id": "50b1ae40",
   "metadata": {},
   "source": [
    "## scalling (transforming) the dataset to make it fit for ML model"
   ]
  },
  {
   "cell_type": "code",
   "execution_count": 7,
   "id": "0d5648c8",
   "metadata": {},
   "outputs": [],
   "source": [
    "from sklearn.preprocessing import StandardScaler\n",
    "sc = StandardScaler ()\n",
    "\n",
    "# Scaling to the range [0,1]\n",
    "X_train = sc.fit_transform (X_train)\n",
    "X_test  = sc.fit_transform (X_test)"
   ]
  },
  {
   "cell_type": "markdown",
   "id": "c260a254",
   "metadata": {},
   "source": [
    " # Building FNN Training Module"
   ]
  },
  {
   "cell_type": "code",
   "execution_count": 8,
   "id": "8e757422",
   "metadata": {},
   "outputs": [],
   "source": [
    "from keras.models import Sequential\n",
    "from keras.layers import Dense\n",
    "classifier = Sequential()\n",
    "\n",
    "# Adding the input layer (6 nodes)\n",
    "classifier.add(Dense(units = 6, kernel_initializer = 'uniform', activation = 'relu', input_dim = len(X_train[0])))\n",
    "\n",
    "# Adding the second hidden layer (6 nodes)\n",
    "classifier.add(Dense(units = 6, kernel_initializer = 'uniform', activation = 'relu'))\n",
    "\n",
    "# Adding the output layer (1 node) ,\n",
    "# sigmoid on the output layer is to ensure the network output is between 0 and 1\n",
    "classifier.add(Dense(units = 1, kernel_initializer = 'uniform', activation = 'sigmoid'))"
   ]
  },
  {
   "cell_type": "code",
   "execution_count": 9,
   "id": "dfe1edec",
   "metadata": {},
   "outputs": [
    {
     "name": "stdout",
     "output_type": "stream",
     "text": [
      "Epoch 1/10\n",
      "12493/12493 [==============================] - 18s 1ms/step - loss: 0.0515 - accuracy: 0.9816\n",
      "Epoch 2/10\n",
      "12493/12493 [==============================] - 17s 1ms/step - loss: 0.0212 - accuracy: 0.9921\n",
      "Epoch 3/10\n",
      "12493/12493 [==============================] - 17s 1ms/step - loss: 0.0185 - accuracy: 0.9940\n",
      "Epoch 4/10\n",
      "12493/12493 [==============================] - 17s 1ms/step - loss: 0.0169 - accuracy: 0.9949\n",
      "Epoch 5/10\n",
      "12493/12493 [==============================] - 17s 1ms/step - loss: 0.0145 - accuracy: 0.9952\n",
      "Epoch 6/10\n",
      "12493/12493 [==============================] - 17s 1ms/step - loss: 0.0128 - accuracy: 0.9959\n",
      "Epoch 7/10\n",
      "12493/12493 [==============================] - 17s 1ms/step - loss: 0.0119 - accuracy: 0.9963\n",
      "Epoch 8/10\n",
      "12493/12493 [==============================] - 17s 1ms/step - loss: 0.0113 - accuracy: 0.9967\n",
      "Epoch 9/10\n",
      "12493/12493 [==============================] - 17s 1ms/step - loss: 0.0108 - accuracy: 0.9967\n",
      "Epoch 10/10\n",
      "12493/12493 [==============================] - 17s 1ms/step - loss: 0.0106 - accuracy: 0.9969\n"
     ]
    }
   ],
   "source": [
    "classifier.compile(optimizer = 'adam', loss = 'binary_crossentropy', metrics = ['accuracy'])\n",
    "\n",
    "# run training with batch size = 10 and epochs = 10  will be performed\n",
    "classifierHistory = classifier .fit(X_train , train_y , batch_size = 10, epochs = 10)\n"
   ]
  },
  {
   "cell_type": "code",
   "execution_count": 10,
   "id": "221da78c",
   "metadata": {},
   "outputs": [
    {
     "name": "stdout",
     "output_type": "stream",
     "text": [
      "3904/3904 [==============================] - 5s 1ms/step - loss: 0.0100 - accuracy: 0.9974\n",
      "Print the loss and the accuracy of the model on the dataset\n",
      "Loss [0,1]: 0.0100 Accuracy [0,1]: 0.9974\n"
     ]
    }
   ],
   "source": [
    "loss, accuracy = classifier.evaluate(X_train , train_y)\n",
    "print('Print the loss and the accuracy of the model on the dataset')\n",
    "print('Loss [0,1]: %.4f' % (loss), 'Accuracy [0,1]: %.4f' % (accuracy))"
   ]
  },
  {
   "cell_type": "markdown",
   "id": "7cf79b13",
   "metadata": {},
   "source": [
    "#  Evaluate FNN Training Results"
   ]
  },
  {
   "cell_type": "code",
   "execution_count": 11,
   "id": "6dc20bf0",
   "metadata": {},
   "outputs": [
    {
     "name": "stdout",
     "output_type": "stream",
     "text": [
      "615/615 [==============================] - 1s 967us/step\n"
     ]
    }
   ],
   "source": [
    "# using the trained model to predict the Test dataset results\n",
    "y_pred = classifier.predict(X_test)\n",
    "\n",
    "# y_pred = 0 if the prediction is =< 0.9 \n",
    "# y_pred = 1 if the prediction is > 0.9\n",
    "y_pred = ( y_pred > 0.9)"
   ]
  },
  {
   "cell_type": "code",
   "execution_count": 12,
   "id": "18930615",
   "metadata": {},
   "outputs": [
    {
     "name": "stdout",
     "output_type": "stream",
     "text": [
      "Print the Confusion Matrix:\n",
      "[[8948  763]\n",
      " [1755 8193]]\n"
     ]
    }
   ],
   "source": [
    "from sklearn.metrics import confusion_matrix\n",
    "\n",
    "cm = confusion_matrix (test_y , y_pred)\n",
    "print('Print the Confusion Matrix:')\n",
    "print(cm)\n",
    "\n",
    "# TN FP\n",
    "# FN TP"
   ]
  },
  {
   "cell_type": "markdown",
   "id": "247e8824",
   "metadata": {},
   "source": [
    "# Visualize FNN Training and Testing Results"
   ]
  },
  {
   "cell_type": "code",
   "execution_count": 13,
   "id": "bea44ba6",
   "metadata": {},
   "outputs": [
    {
     "data": {
      "image/png": "[encoded data removed]",
      "text/plain": [
       "<Figure size 640x480 with 1 Axes>"
      ]
     },
     "metadata": {},
     "output_type": "display_data"
    }
   ],
   "source": [
    "import matplotlib.pyplot as plt\n",
    "\n",
    "# Note that Keras 2.2.4 recognize 'acc' and 2.3.1 recognize 'accuracy'\n",
    "# You can use the command python −c 'import keras; print(keras.__version__)' on MAC or Linux to check Keras 'version'\n",
    "plt.plot(classifierHistory.history['accuracy'])\n",
    "plt.title('model accuracy')\n",
    "plt.ylabel('accuracy')\n",
    "plt.xlabel('epoch')\n",
    "plt.legend (['train'], loc='upper left')\n",
    "plt.savefig('accuracy sample.png')\n",
    "plt.show ()\n"
   ]
  },
  {
   "cell_type": "code",
   "execution_count": 14,
   "id": "0545aed4",
   "metadata": {},
   "outputs": [
    {
     "name": "stdout",
     "output_type": "stream",
     "text": [
      "Plot the loss\n"
     ]
    },
    {
     "data": {
      "image/png": "[encoded data removed]",
      "text/plain": [
       "<Figure size 640x480 with 1 Axes>"
      ]
     },
     "metadata": {},
     "output_type": "display_data"
    }
   ],
   "source": [
    "print('Plot the loss')\n",
    "plt.plot(classifierHistory.history['loss'])\n",
    "plt.title('model loss')\n",
    "plt.ylabel('loss')\n",
    "plt.xlabel('epoch')\n",
    "plt.legend (['train'], loc='upper left')\n",
    "plt.savefig('loss sample.png')\n",
    "plt.show ()"
   ]
  },
  {
   "cell_type": "code",
   "execution_count": null,
   "id": "3b1e5d2e",
   "metadata": {},
   "outputs": [],
   "source": []
  }
 ],
 "metadata": {
  "kernelspec": {
   "display_name": "Python 3 (ipykernel)",
   "language": "python",
   "name": "python3"
  },
  "language_info": {
   "codemirror_mode": {
    "name": "ipython",
    "version": 3
   },
   "file_extension": ".py",
   "mimetype": "text/x-python",
   "name": "python",
   "nbconvert_exporter": "python",
   "pygments_lexer": "ipython3",
   "version": "3.10.9"
  }
 },
 "nbformat": 4,
 "nbformat_minor": 5
}
